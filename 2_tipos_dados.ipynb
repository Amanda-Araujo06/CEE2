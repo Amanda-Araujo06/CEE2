{
  "nbformat": 4,
  "nbformat_minor": 0,
  "metadata": {
    "colab": {
      "provenance": [],
      "toc_visible": true,
      "include_colab_link": true
    },
    "kernelspec": {
      "name": "python3",
      "display_name": "Python 3"
    },
    "language_info": {
      "name": "python"
    }
  },
  "cells": [
    {
      "cell_type": "markdown",
      "metadata": {
        "id": "view-in-github",
        "colab_type": "text"
      },
      "source": [
        "<a href=\"https://colab.research.google.com/github/Amanda-Araujo06/CEE2/blob/main/2_tipos_dados.ipynb\" target=\"_parent\"><img src=\"https://colab.research.google.com/assets/colab-badge.svg\" alt=\"Open In Colab\"/></a>"
      ]
    },
    {
      "cell_type": "markdown",
      "source": [
        "# Tipos de dados"
      ],
      "metadata": {
        "id": "C5PyQeL0uH6U"
      }
    },
    {
      "cell_type": "markdown",
      "source": [
        "## Variáveis numéricas"
      ],
      "metadata": {
        "id": "Cbw1kFoJuL-E"
      }
    },
    {
      "cell_type": "markdown",
      "source": [
        "\n",
        "A linguagem **Python** permite o uso de variáveis numéricas do tipo inteiras (*int*), de ponto flutuante (*float*) e complexas (*complex*).\n",
        "\n",
        "- O comando `type()` pode ser utilizado para exibir o tipo da variável.\n",
        "\n",
        "Veja os exemplos abaixo:"
      ],
      "metadata": {
        "id": "2lYjldsAuSQW"
      }
    },
    {
      "cell_type": "code",
      "source": [
        "# Números inteiros\n",
        "x = 20             # Inteiro com valor 20\n",
        "y = int(1024)      # Inteiro com valor 1024\n",
        "z = int('1234')    # Inteiro com valor 1234\n",
        "\n",
        "print(x)    # Exibe 20\n",
        "print(y)    # Exibe 1024\n",
        "print(z)    # Exibe 1234\n",
        "\n",
        "print(type(x))    # Exibe \"<class 'int'> indicando que é inteiro.\n",
        "print(type(y))    # Exibe \"<class 'int'> indicando que é inteiro.\n",
        "print(type(z))    # Exibe \"<class 'int'> indicando que é inteiro."
      ],
      "metadata": {
        "id": "264OCt1wua_F",
        "colab": {
          "base_uri": "https://localhost:8080/"
        },
        "outputId": "16416e38-a3b3-40f4-eb9d-a75dc2d4a43a"
      },
      "execution_count": null,
      "outputs": [
        {
          "output_type": "stream",
          "name": "stdout",
          "text": [
            "20\n",
            "1024\n",
            "1234\n",
            "<class 'int'>\n",
            "<class 'int'>\n",
            "<class 'int'>\n"
          ]
        }
      ]
    },
    {
      "cell_type": "code",
      "source": [
        "# Números de ponto flutuante\n",
        "x = 20.5               # Ponto flutuante com valor 20.5\n",
        "y = float(3.1415)      # Ponto flutuante com valor 3.1415\n",
        "z = float('1.2345')    # Ponto flutuante com valor 1.2345\n",
        "\n",
        "print(x)    # Exibe 20.5\n",
        "print(y)    # Exibe 3.1415\n",
        "print(z)    # Exibe 1.2345\n",
        "\n",
        "print(type(x))    # Exibe \"<class 'float'> indicando que é ponto flutuante.\n",
        "print(type(y))    # Exibe \"<class 'float'> indicando que é ponto flutuante.\n",
        "print(type(z))    # Exibe \"<class 'float'> indicando que é ponto flutuante."
      ],
      "metadata": {
        "id": "G2Hg7DaiufDK",
        "colab": {
          "base_uri": "https://localhost:8080/"
        },
        "outputId": "c279c854-0945-46f8-faa2-d54e42fa9b7a"
      },
      "execution_count": null,
      "outputs": [
        {
          "output_type": "stream",
          "name": "stdout",
          "text": [
            "20.5\n",
            "3.1415\n",
            "1.2345\n",
            "<class 'float'>\n",
            "<class 'float'>\n",
            "<class 'float'>\n"
          ]
        }
      ]
    },
    {
      "cell_type": "code",
      "source": [
        "# Números complexos\n",
        "x = 1j                   # Número complexo 0.0 + 1.0i\n",
        "y = complex(2 + 3j)      # Número complexo 2.0 + 3.0i\n",
        "z = complex('1.2+3.4j')  # Número complexo 1.2 + 3.4i (sem espaços!)\n",
        "\n",
        "print(x)    # Exibe 1j\n",
        "print(y)    # Exibe (2+3j)\n",
        "print(z)    # Exibe (1.2+3.4j)\n",
        "\n",
        "print(type(x))    # Exibe \"<class 'complex'> indicando que é complexo.\n",
        "print(type(y))    # Exibe \"<class 'complex'> indicando que é complexo.\n",
        "print(type(z))    # Exibe \"<class 'complex'> indicando que é complexo."
      ],
      "metadata": {
        "id": "w1DCF9tjuiS4",
        "colab": {
          "base_uri": "https://localhost:8080/"
        },
        "outputId": "2ca59257-781b-4264-9685-b7ed75438be2"
      },
      "execution_count": null,
      "outputs": [
        {
          "output_type": "stream",
          "name": "stdout",
          "text": [
            "1j\n",
            "(2+3j)\n",
            "(1.2+3.4j)\n",
            "<class 'complex'>\n",
            "<class 'complex'>\n",
            "<class 'complex'>\n"
          ]
        }
      ]
    },
    {
      "cell_type": "markdown",
      "source": [
        "## Variáveis do tipo texto (string)"
      ],
      "metadata": {
        "id": "08fm0OpJu_b8"
      }
    },
    {
      "cell_type": "markdown",
      "source": [
        "A linguagem Python também permite o uso de variáveis do tipo texto (string):"
      ],
      "metadata": {
        "id": "L-AnjJWHvGQk"
      }
    },
    {
      "cell_type": "code",
      "source": [
        "x = \"Hello World!\"    # String \"Hello World!\"\n",
        "y = str(20)           # String \"20\"\n",
        "z = str(3.1415)       # String \"3.1415\"\n",
        "\n",
        "print(x)    # Exibe \"Hello World!\"\n",
        "print(y)    # Exibe \"20\"\n",
        "print(z)    # Exibe \"3.1415\"\n",
        "\n",
        "print(type(x))    # Exibe \"<class 'str'> indicando que é string.\n",
        "print(type(y))    # Exibe \"<class 'str'> indicando que é string.\n",
        "print(type(z))    # Exibe \"<class 'str'> indicando que é string.\n",
        "\n",
        "print( x + \" \" + y + \" \" + z) ## o sinal \"+\"\" pode ser utilizada para concatenar strings"
      ],
      "metadata": {
        "id": "fOk2y7WgvKKp",
        "colab": {
          "base_uri": "https://localhost:8080/"
        },
        "outputId": "3299e264-dcb3-48e0-828f-1966056fe8fd"
      },
      "execution_count": null,
      "outputs": [
        {
          "output_type": "stream",
          "name": "stdout",
          "text": [
            "Hello World!\n",
            "20\n",
            "3.1415\n",
            "<class 'str'>\n",
            "<class 'str'>\n",
            "<class 'str'>\n",
            "Hello World! 20 3.1415\n"
          ]
        }
      ]
    },
    {
      "cell_type": "markdown",
      "source": [
        "### Concatenando strings\n",
        "\n",
        "O sinal `+` pode ser utilizado para concatenar strings de uma forma muito simples. Veja o exemplo:\n",
        "\n"
      ],
      "metadata": {
        "id": "QBJN9OHF1amn"
      }
    },
    {
      "cell_type": "code",
      "source": [
        "x = \"Eu tenho\" ## string\n",
        "y = int(20)    ## int\n",
        "z  = \"anos\"    ## string\n",
        "\n",
        "frase = x + \" \" + str(y) + \" \" + z + \".\"\n",
        "print(frase)"
      ],
      "metadata": {
        "id": "U6nYDp0h1yDO",
        "colab": {
          "base_uri": "https://localhost:8080/"
        },
        "outputId": "c49ee8c9-0f75-4528-bc69-c9292b089537"
      },
      "execution_count": null,
      "outputs": [
        {
          "output_type": "stream",
          "name": "stdout",
          "text": [
            "Eu tenho 20 anos.\n"
          ]
        }
      ]
    },
    {
      "cell_type": "markdown",
      "source": [
        "### Formatando strings (f-strings)\n",
        "\n",
        "As **f-strings** (*formatted strings*) é uma maneira prática de formatar strings no Python. Elas foram introduzidas no Python 3.6 e permitem inserir variáveis e expressões diretamente dentro de uma string.\n",
        "\n",
        "A sintaxe de uma f-string é simples: basta adicionar um **\"f\"** antes da string e colocar as variáveis entre **chaves** `{}` dentro da string.\n",
        "\n",
        "Veja os exemplos:"
      ],
      "metadata": {
        "id": "4KqshTM32Zwq"
      }
    },
    {
      "cell_type": "code",
      "source": [
        "nome = \"Joao\"\n",
        "idade = 25\n",
        "\n",
        "print(f\"Meu nome é {nome} e eu tenho {idade} anos.\")"
      ],
      "metadata": {
        "id": "_Rdd_oKe3v2B",
        "colab": {
          "base_uri": "https://localhost:8080/"
        },
        "outputId": "27e82b67-fbc6-4af2-a373-f747e8d58bc5"
      },
      "execution_count": null,
      "outputs": [
        {
          "output_type": "stream",
          "name": "stdout",
          "text": [
            "Meu nome é Joao e eu tenho 25 anos.\n"
          ]
        }
      ]
    },
    {
      "cell_type": "code",
      "source": [
        "# também podemos colocar expressões dentro das chaves\n",
        "\n",
        "a = 5\n",
        "b = 3\n",
        "print(f\"A soma de {a} e {b} é {a + b}.\")"
      ],
      "metadata": {
        "id": "_9-Nk-Ew4C3E",
        "colab": {
          "base_uri": "https://localhost:8080/"
        },
        "outputId": "95317b9e-1945-484f-941a-6f20588022e3"
      },
      "execution_count": null,
      "outputs": [
        {
          "output_type": "stream",
          "name": "stdout",
          "text": [
            "A soma de 5 e 3 é 8.\n"
          ]
        }
      ]
    },
    {
      "cell_type": "code",
      "source": [
        "# Podemos definir número de casas decimais de uma variável float\n",
        "# Usando :.nf, onde n é o número de casas decimais\n",
        "\n",
        "pi = 3.1415926535\n",
        "print(f\"Valor de π com duas casas decimais: {pi:.2f}\")"
      ],
      "metadata": {
        "id": "xr0O-4HN4Mnc",
        "colab": {
          "base_uri": "https://localhost:8080/"
        },
        "outputId": "9e6e4abb-136c-49e9-ceac-d8bf083561e7"
      },
      "execution_count": null,
      "outputs": [
        {
          "output_type": "stream",
          "name": "stdout",
          "text": [
            "Valor de π com duas casas decimais: 3.14\n"
          ]
        }
      ]
    },
    {
      "cell_type": "markdown",
      "source": [
        "## Variáveis do tipo lógico (booleano)"
      ],
      "metadata": {
        "id": "qEt4J_HtvN-6"
      }
    },
    {
      "cell_type": "markdown",
      "source": [
        "A linguagem Python também permite o uso de variáveis do tipo lógica (booleana):"
      ],
      "metadata": {
        "id": "KAVEABWuvTlv"
      }
    },
    {
      "cell_type": "code",
      "source": [
        "x = False      # Booleano com valor False\n",
        "y = bool(1)    # Booleano com valor True\n",
        "z = (3 > 5)    # Booleano com valor False\n",
        "\n",
        "print(x)    # Exibe False\n",
        "print(y)    # Exibe True\n",
        "print(z)    # Exibe False\n",
        "\n",
        "print(type(x))    # Exibe \"<class 'bool'> indicando que é booleano.\n",
        "print(type(y))    # Exibe \"<class 'bool'> indicando que é booleano.\n",
        "print(type(z))    # Exibe \"<class 'bool'> indicando que é booleano."
      ],
      "metadata": {
        "id": "CMLwvEqFvWRy",
        "colab": {
          "base_uri": "https://localhost:8080/"
        },
        "outputId": "39816d58-5490-4878-a6ab-2e436a36548f"
      },
      "execution_count": null,
      "outputs": [
        {
          "output_type": "stream",
          "name": "stdout",
          "text": [
            "False\n",
            "True\n",
            "False\n",
            "<class 'bool'>\n",
            "<class 'bool'>\n",
            "<class 'bool'>\n"
          ]
        }
      ]
    },
    {
      "cell_type": "markdown",
      "source": [
        "## Importante"
      ],
      "metadata": {
        "id": "-Il4DoUkvh1v"
      }
    },
    {
      "cell_type": "markdown",
      "source": [
        "* Textos (*strings*) que representam números não podem ser utilizados em cálculos, a menos que sejam convertidos com `int()` ou `float()`.\n",
        "\n",
        "* Na conversão de números para booleano, o valor númerico `0` é convertido para `False` e todos os demais valores para `True`."
      ],
      "metadata": {
        "id": "GQAm8hWKvkir"
      }
    },
    {
      "cell_type": "markdown",
      "source": [
        "## Exercício 1: Convertendo entre int e float\n",
        "\n",
        "Crie três variáveis: uma do tipo `int`, uma do tipo `float` e uma do tipo `bool`. Exiba os valores de cada uma dessas variáveis e o tipo delas. Em seguida, converta as variáveis de acordo com as instruções abaixo:\n",
        "\n",
        "* Converta o número inteiro para float e exiba o resultado.\n",
        "* Converta o número decimal (float) para int e exiba o resultado.\n",
        "* Converta o valor booleano para int e exiba o resultado.\n",
        "* Converta o valor booleano para float e exiba o resultado.\n"
      ],
      "metadata": {
        "id": "3L4zf0sbsc5M"
      }
    },
    {
      "cell_type": "code",
      "source": [
        "x = int(6)\n",
        "print(x)\n",
        "print(type(x))\n",
        "\n",
        "y = float(7.1)\n",
        "print(y)\n",
        "print(type(y))\n",
        "\n",
        "z = bool(0.01)\n",
        "print(z)\n",
        "print(type(z))\n",
        "\n",
        "x2 = float(x)\n",
        "print(x2)\n",
        "\n",
        "y2 = int(y)\n",
        "print(y2)\n",
        "\n",
        "z2 = int(z)\n",
        "print(z2)\n",
        "\n",
        "z3 = float(z)\n",
        "print(z3)"
      ],
      "metadata": {
        "colab": {
          "base_uri": "https://localhost:8080/"
        },
        "id": "dLKqSlweolkX",
        "outputId": "d665a639-2565-4ed1-f17e-f3f10a4dd502"
      },
      "execution_count": null,
      "outputs": [
        {
          "output_type": "stream",
          "name": "stdout",
          "text": [
            "6\n",
            "<class 'int'>\n",
            "7.1\n",
            "<class 'float'>\n",
            "True\n",
            "<class 'bool'>\n",
            "6.0\n",
            "7\n",
            "1\n",
            "1.0\n"
          ]
        }
      ]
    },
    {
      "cell_type": "markdown",
      "source": [
        "## Exercício 2: Operações básicas com int e float\n",
        "\n",
        "Crie duas variáveis: uma contendo um número inteiro igual a 5 (`num1 = 5`) e outra contendo um número decimal float igual a 2.5 (`num2 = 2.5`). Em seguida, execute as seguintes operações e exiba o resultado:\n",
        "\n",
        "* Adição  (`num1 + num2`)\n",
        "* Subtração (`num1 - num2`)\n",
        "* Multiplicação (`num1 * num2`)\n",
        "* Divisão (`num1 / num2`)\n",
        "\n",
        "Observe que a conversão para float é feita automaticamente.\n",
        "\n"
      ],
      "metadata": {
        "id": "4-0M8jO3uCRQ"
      }
    },
    {
      "cell_type": "code",
      "source": [
        "num1 = 5\n",
        "num2= 2.5\n",
        "\n",
        "print(num1 + num2)\n",
        "print(num1 - num2)\n",
        "print(num1 * num2)\n",
        "print(num1 / num2)"
      ],
      "metadata": {
        "colab": {
          "base_uri": "https://localhost:8080/"
        },
        "id": "6e1P_5CTqyDW",
        "outputId": "785d6e4d-83ee-48d1-f98d-197d405fa6ef"
      },
      "execution_count": null,
      "outputs": [
        {
          "output_type": "stream",
          "name": "stdout",
          "text": [
            "7.5\n",
            "2.5\n",
            "12.5\n",
            "2.0\n"
          ]
        }
      ]
    },
    {
      "cell_type": "markdown",
      "source": [
        "## Exercício 3: Calculando a área de um círculo\n",
        "\n",
        "Crie um programa que calcule a área de um círculo, dada a fórmula: $A = \\pi * r^2$. Atribua um valor para o raio (como float) e mostre o resultado da área. Utilize π = 3.14159.\n",
        "\n",
        "* O resultado deve ser apresentado como \"A área do círculo é: {area}\"\n",
        "\n",
        "\n"
      ],
      "metadata": {
        "id": "oKJQjbesw9KO"
      }
    },
    {
      "cell_type": "code",
      "source": [
        "import math\n",
        "\n",
        "r = float(input(\"Raio do círculo: \"))\n",
        "\n",
        "A = (math.pi) * (r**2)\n",
        "\n",
        "print(f\"A área do círculo é: {A:.5f}\")"
      ],
      "metadata": {
        "colab": {
          "base_uri": "https://localhost:8080/"
        },
        "id": "j4Ichs_frbz3",
        "outputId": "54c2c3d3-747b-4fc0-ece8-3ba08c7f5659"
      },
      "execution_count": null,
      "outputs": [
        {
          "output_type": "stream",
          "name": "stdout",
          "text": [
            "Raio do círculo: 3\n",
            "A área do círculo é: 28.27433\n"
          ]
        }
      ]
    }
  ]
}